{
 "cells": [
  {
   "cell_type": "code",
   "execution_count": 1,
   "id": "742b42f8",
   "metadata": {},
   "outputs": [
    {
     "name": "stdout",
     "output_type": "stream",
     "text": [
      "changing 1\n",
      "changing 1\n",
      "changing 4\n",
      "changing 4\n",
      "changing 5\n",
      "changing 5\n",
      "changing 5\n",
      "changing 5\n",
      "changing 2\n",
      "changing 2\n",
      "changing 3\n",
      "changing 3\n",
      "ACCX (2655, 520)\n"
     ]
    },
    {
     "name": "stderr",
     "output_type": "stream",
     "text": [
      "100%|██████████| 2655/2655 [00:16<00:00, 157.52it/s]\n"
     ]
    },
    {
     "name": "stdout",
     "output_type": "stream",
     "text": [
      "changing 1\n",
      "changing 1\n",
      "changing 4\n",
      "changing 4\n",
      "changing 5\n",
      "changing 5\n",
      "changing 5\n",
      "changing 5\n",
      "changing 2\n",
      "changing 2\n",
      "changing 3\n",
      "changing 3\n",
      "ACCX (2655, 520)\n"
     ]
    },
    {
     "name": "stderr",
     "output_type": "stream",
     "text": [
      "100%|██████████| 2655/2655 [00:16<00:00, 162.11it/s]\n"
     ]
    }
   ],
   "source": [
    "from generate_features import generate_features\n",
    "\n",
    "detrend=True\n",
    "\n",
    "domain_features=False # dont use domain features\n",
    "cr_features=False # dont use cr features\n",
    "\n",
    "\n",
    "# using the features available in the c code\n",
    "v_features=1 # 0 -False, 1 - True, 2 - True with using the magnitude of the data\n",
    "v_features_m=2\n",
    "\n",
    "# generate fetures for caretronic with 52 hz sampling rate, no domain features, no cr features, 256 samples per window, 256 samples overlap and detrend\n",
    "generate_features(\"caretronic\",52,False,False,256,256,domain_features,cr_features,v_features,detrend)\n",
    "\n",
    "# generate fetures for caretronic with 52 hz sampling rate, no domain features, no cr features, 256 samples per window, 256 samples overlap and detrend but using the magnitude of the data\n",
    "generate_features(\"caretronic\",52,False,False,256,256,domain_features,cr_features,v_features_m,detrend)\n"
   ]
  }
 ],
 "metadata": {
  "kernelspec": {
   "display_name": "safestep_research",
   "language": "python",
   "name": "python3"
  },
  "language_info": {
   "codemirror_mode": {
    "name": "ipython",
    "version": 3
   },
   "file_extension": ".py",
   "mimetype": "text/x-python",
   "name": "python",
   "nbconvert_exporter": "python",
   "pygments_lexer": "ipython3",
   "version": "3.10.10"
  }
 },
 "nbformat": 4,
 "nbformat_minor": 5
}
